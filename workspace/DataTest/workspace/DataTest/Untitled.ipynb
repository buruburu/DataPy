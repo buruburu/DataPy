{
 "cells": [
  {
   "cell_type": "code",
   "execution_count": null,
   "metadata": {
    "collapsed": true
   },
   "outputs": [],
   "source": [
    "import win32com.client\n",
    "\n",
    "# 연결상태 확인\n",
    "instCpCybos = win32com.client.Dispatch(\"CpUtil.CpCybos\")\n",
    "print(instCpCybos.IsConnect)"
   ]
  },
  {
   "cell_type": "code",
   "execution_count": 47,
   "metadata": {},
   "outputs": [
    {
     "ename": "ValueError",
     "evalue": "cannot reshape array of size 20 into shape (1,10)",
     "output_type": "error",
     "traceback": [
      "\u001b[1;31m---------------------------------------------------------------------------\u001b[0m",
      "\u001b[1;31mValueError\u001b[0m                                Traceback (most recent call last)",
      "\u001b[1;32m<ipython-input-47-cd0078a27a8c>\u001b[0m in \u001b[0;36m<module>\u001b[1;34m()\u001b[0m\n\u001b[0;32m      1\u001b[0m \u001b[0mary\u001b[0m\u001b[1;33m=\u001b[0m\u001b[1;33m[\u001b[0m\u001b[1;36m1\u001b[0m\u001b[1;33m,\u001b[0m\u001b[1;36m2\u001b[0m\u001b[1;33m,\u001b[0m\u001b[1;36m3\u001b[0m\u001b[1;33m,\u001b[0m\u001b[1;36m4\u001b[0m\u001b[1;33m,\u001b[0m\u001b[1;36m5\u001b[0m\u001b[1;33m,\u001b[0m\u001b[1;36m6\u001b[0m\u001b[1;33m,\u001b[0m\u001b[1;36m7\u001b[0m\u001b[1;33m,\u001b[0m\u001b[1;36m8\u001b[0m\u001b[1;33m,\u001b[0m\u001b[1;36m9\u001b[0m\u001b[1;33m,\u001b[0m\u001b[1;36m10\u001b[0m\u001b[1;33m,\u001b[0m\u001b[1;36m11\u001b[0m\u001b[1;33m,\u001b[0m\u001b[1;36m12\u001b[0m\u001b[1;33m,\u001b[0m\u001b[1;36m13\u001b[0m\u001b[1;33m,\u001b[0m\u001b[1;36m14\u001b[0m\u001b[1;33m,\u001b[0m\u001b[1;36m15\u001b[0m\u001b[1;33m,\u001b[0m\u001b[1;36m16\u001b[0m\u001b[1;33m,\u001b[0m\u001b[1;36m17\u001b[0m\u001b[1;33m,\u001b[0m\u001b[1;36m18\u001b[0m\u001b[1;33m,\u001b[0m\u001b[1;36m19\u001b[0m\u001b[1;33m,\u001b[0m\u001b[1;36m20\u001b[0m\u001b[1;33m]\u001b[0m\u001b[1;33m\u001b[0m\u001b[0m\n\u001b[0;32m      2\u001b[0m \u001b[1;33m\u001b[0m\u001b[0m\n\u001b[1;32m----> 3\u001b[1;33m \u001b[0mprint\u001b[0m\u001b[1;33m(\u001b[0m\u001b[0mnp\u001b[0m\u001b[1;33m.\u001b[0m\u001b[0marange\u001b[0m\u001b[1;33m(\u001b[0m\u001b[0mlen\u001b[0m\u001b[1;33m(\u001b[0m\u001b[0mary\u001b[0m\u001b[1;33m)\u001b[0m\u001b[1;33m)\u001b[0m\u001b[1;33m.\u001b[0m\u001b[0mreshape\u001b[0m\u001b[1;33m(\u001b[0m\u001b[1;36m1\u001b[0m\u001b[1;33m,\u001b[0m\u001b[1;36m10\u001b[0m\u001b[1;33m)\u001b[0m\u001b[1;33m)\u001b[0m\u001b[1;33m\u001b[0m\u001b[0m\n\u001b[0m\u001b[0;32m      4\u001b[0m \u001b[1;33m\u001b[0m\u001b[0m\n\u001b[0;32m      5\u001b[0m \u001b[1;31m# a = np.arange(len(ary)).reshape(2,10)\u001b[0m\u001b[1;33m\u001b[0m\u001b[1;33m\u001b[0m\u001b[0m\n",
      "\u001b[1;31mValueError\u001b[0m: cannot reshape array of size 20 into shape (1,10)"
     ]
    }
   ],
   "source": [
    "ary=[1,2,3,4,5,6,7,8,9,10,11,12,13,14,15,16,17,18,19,20]\n",
    "\n",
    "print(np.arange(len(ary)).reshape(1,10))\n",
    "\n",
    "# a = np.arange(len(ary)).reshape(2,10)\n",
    "# print(\"배열 a : \")\n",
    "# print(a)\n"
   ]
  },
  {
   "cell_type": "code",
   "execution_count": 78,
   "metadata": {},
   "outputs": [
    {
     "name": "stdout",
     "output_type": "stream",
     "text": [
      "55\n",
      "55\n"
     ]
    }
   ],
   "source": [
    "ary=[1,2,3,4,5,6,7,8,9,10,11,12,13,14,15,16,17,18,19,20]\n",
    "ary1 = ary[0:10]\n",
    "\n",
    "print(sum( ary[0:10]))\n",
    "print(np.cumsum( ary[0:10])[9])\n",
    "\n",
    "# def forward_chunk(lst, size):\n",
    "#     piece = len(lst) % size\n",
    "#     piece, lst = lst[:piece], lst[piece:]\n",
    "#     yield piece\n",
    "#     for i in range(0, len(lst), size):\n",
    "#         yield lst[i:i+size]\n",
    "\n",
    "# def backward_chunk(l, size):\n",
    "#     start = 0\n",
    "#     for end in range(len(l)%size, len(l)+1, size):\n",
    "#         yield l[start:end]\n",
    "#         start = end\n",
    "\n",
    "# def test_chunk(lst,size,row):\n",
    "#     for i in range(0, len(lst), size):\n",
    "#         yield lst[i:i+row]\n",
    "\n",
    "\n",
    "# list(test_chunk(ary,1,5))\n",
    "\n",
    "        \n",
    "\n",
    "\n"
   ]
  },
  {
   "cell_type": "code",
   "execution_count": null,
   "metadata": {},
   "outputs": [],
   "source": [
    "import win32com.client\n",
    "\n",
    "# https://wikidocs.net/3684\n",
    "# 과거데이터 얻어오기 \n",
    "\n",
    "instStockChart = win32com.client.Dispatch(\"CpSysDib.StockChart\")\n",
    "\n",
    "instStockChart.SetInputValue(0, \"A068270\")\n",
    "instStockChart.SetInputValue(1, ord('1'))\n",
    "instStockChart.SetInputValue(2, 20170706)\n",
    "instStockChart.SetInputValue(3, 20170701)\n",
    "#instStockChart.SetInputValue(4, 1000)\n",
    "instStockChart.SetInputValue(5, [0,1,2,3,4,5,6,8,9,12,13,14,15,16,17,18,19,20,21,22,23,24,25,26,37])\n",
    "instStockChart.SetInputValue(6, ord('D'))\n",
    "instStockChart.SetInputValue(9, ord('1'))\n",
    "\n",
    "# BlockRequest 메서드 호출을 통해 서버에 데이터를 요청(request)\n",
    "instStockChart.BlockRequest()\n",
    "hName = ['종목코드', '필드개수','필드명배열','수신개수','마지막봉틱수','최근거래일','전일종가','현재가','대비부호','대비','거래량','매도호가','매수호가','시가','고가','저가','거래대금','종목상태','상장주식수','자본금[백만원]','전일거래량','최근갱신시간','상한가','하한가']\n",
    "\n",
    "rcvDataCnt = instStockChart.GetHeaderValue(3)\n",
    "print('수신개수 : ', rcvDataCnt)\n",
    "\n",
    "\n",
    "for i in range(rcvDataCnt):\n",
    "    print('------------------------------')\n",
    "    for a in range(len(hName)):\n",
    "        print(hName[a], ' : ' , instStockChart.GetHeaderValue(a))\n",
    "\n",
    "        \n",
    "fName = instStockChart.GetHeaderValue(2)\n",
    "print('필드 : ', fName, len(fName))\n",
    "\n",
    "for i in range(rcvDataCnt):\n",
    "    print('------------------------------')\n",
    "    for k in range(len(fName)):\n",
    "        print(fName[k], instStockChart.GetDataValue(k, i))\n",
    "   \n",
    "\n"
   ]
  },
  {
   "cell_type": "code",
   "execution_count": null,
   "metadata": {
    "collapsed": true
   },
   "outputs": [],
   "source": [
    "import win32com.client\n",
    "\n",
    "#투자주체별현황을 일별/기간별,순매수/매매비중, 수량/금액을 일자별로 확인\n",
    "instCpSysDib = win32com.client.Dispatch(\"CpSysDib.CpSvr7254\")\n",
    "\n",
    "instCpSysDib.SetInputValue(0,\"A003540\")    # 종목\n",
    "instCpSysDib.SetInputValue(1,0)\n",
    "instCpSysDib.SetInputValue(2,20170601)\n",
    "instCpSysDib.SetInputValue(3,20170701)\n",
    "instCpSysDib.SetInputValue(4,ord('0'))\n",
    "instCpSysDib.SetInputValue(5,0)\n",
    "instCpSysDib.SetInputValue(6,ord('1'))\n",
    "\n",
    "instCpSysDib.BlockRequest()\n",
    "\n",
    "code=instCpSysDib.GetHeaderValue(0)\n",
    "rowCnt=instCpSysDib.GetHeaderValue(1) \n",
    "print(code)\n",
    "print(rowCnt)\n",
    "\n",
    "for i in range(rowCnt):\n",
    "    print(instCpSysDib.GetDataValue (1,i))\n",
    "\n"
   ]
  },
  {
   "cell_type": "code",
   "execution_count": null,
   "metadata": {
    "collapsed": true
   },
   "outputs": [],
   "source": [
    "import win32com.client\n",
    "\n",
    "instCpCodeMgr = win32com.client.Dispatch(\"CpUtil.CpCodeMgr\")\n",
    "codeList = instCpCodeMgr.GetStockListByMarket(1)\n",
    "\n",
    "for i, code in enumerate(codeList):\n",
    "    secondCode = instCpCodeMgr.GetStockSectionKind(code)\n",
    "    name = instCpCodeMgr.CodeToName(code)\n",
    "    print(i, code, secondCode, name)"
   ]
  },
  {
   "cell_type": "code",
   "execution_count": null,
   "metadata": {
    "collapsed": true
   },
   "outputs": [],
   "source": [
    "# import win32com.client\n",
    "\n",
    "instCpCodeMgr = win32com.client.Dispatch(\"CpUtil.CpCodeMgr\")\n",
    "\n",
    "# 유가증권 시장 종목코드 가져오기 \n",
    "codeList = instCpCodeMgr.GetStockListByMarket(1)\n",
    "#print(len(codeList), codeList)\n",
    "\n",
    "# 코스닥 시장 종목코드 가져오기\n",
    "#codeList = instCpCodeMgr.GetStockListByMarket(2)\n",
    "#print(len(codeList), codeList)\n",
    "\n",
    "kospi = {}\n",
    "for code in codeList:\n",
    "    name = instCpCodeMgr.CodeToName(code)\n",
    "    kospi[code] = name\n",
    "    \n",
    "f = open('D:\\\\[투자]\\\\kospi.csv', 'w')\n",
    "for key, value in kospi.items():\n",
    "    f.write(\"%s,%s\\n\" % (key, value))\n",
    "f.close()    \n"
   ]
  },
  {
   "cell_type": "code",
   "execution_count": null,
   "metadata": {
    "collapsed": true,
    "scrolled": false
   },
   "outputs": [],
   "source": [
    "import win32com.client\n",
    "\n",
    "# Window COM 을 이용하여 CpUtil.CpCybos 에 접근\n",
    "# CpCybos는 Cybos의 각종 통신 연결 상태를 반환 한다.\n",
    "instCpCybos = win32com.client.Dispatch(\"CpUtil.CpCybos\")\n",
    "\n",
    "# CpStockCode는 주식코드 조회작업을 한다.\n",
    "instCpStockCode = win32com.client.Dispatch(\"CpUtil.CpStockCode\")\n",
    "\n",
    "# GetCount 종목코드 개수 반환\n",
    "print(instCpStockCode.GetCount())\n",
    "\n",
    "for i in range(0, 10):\n",
    "    print(instCpStockCode.GetData(1,i))"
   ]
  },
  {
   "cell_type": "code",
   "execution_count": null,
   "metadata": {
    "collapsed": true
   },
   "outputs": [],
   "source": [
    "import win32com.client\n",
    "instCpStockCode = win32com.client.Dispatch(\"CpUtil.CpStockCode\")\n",
    "print(instCpStockCode.GetData(1, 0))\n"
   ]
  }
 ],
 "metadata": {
  "kernelspec": {
   "display_name": "Python 3",
   "language": "python",
   "name": "python3"
  },
  "language_info": {
   "codemirror_mode": {
    "name": "ipython",
    "version": 3
   },
   "file_extension": ".py",
   "mimetype": "text/x-python",
   "name": "python",
   "nbconvert_exporter": "python",
   "pygments_lexer": "ipython3",
   "version": "3.6.1"
  }
 },
 "nbformat": 4,
 "nbformat_minor": 2
}
