{
 "cells": [
  {
   "cell_type": "code",
   "execution_count": 2,
   "metadata": {},
   "outputs": [
    {
     "name": "stdout",
     "output_type": "stream",
     "text": [
      "0\n"
     ]
    }
   ],
   "source": [
    "import win32com.client\n",
    "\n",
    "\n",
    "\n",
    "print(instCpCybos.IsConnect)"
   ]
  },
  {
   "cell_type": "code",
   "execution_count": 8,
   "metadata": {},
   "outputs": [
    {
     "name": "stdout",
     "output_type": "stream",
     "text": [
      "2817\n",
      "동화약품\n",
      "우리은행\n",
      "KR모터스\n",
      "경방\n",
      "메리츠화재\n",
      "삼양홀딩스\n",
      "삼양홀딩스우\n",
      "하이트진로\n",
      "하이트진로2우B\n",
      "유한양행\n"
     ]
    }
   ],
   "source": [
    "import win32com.client\n",
    "\n",
    "# Window COM 을 이용하여 CpUtil.CpCybos 에 접근\n",
    "# CpCybos는 Cybos의 각종 통신 연결 상태를 반환 한다.\n",
    "instCpCybos = win32com.client.Dispatch(\"CpUtil.CpCybos\")\n",
    "\n",
    "# CpStockCode는 주식코드 조회작업을 한다.\n",
    "instCpStockCode = win32com.client.Dispatch(\"CpUtil.CpStockCode\")\n",
    "\n",
    "# GetCount 종목코드 개수 반환\n",
    "print(instCpStockCode.GetCount())\n",
    "\n",
    "for i in range(0, 10):\n",
    "    print(instCpStockCode.GetData(1,i))"
   ]
  },
  {
   "cell_type": "code",
   "execution_count": 7,
   "metadata": {},
   "outputs": [
    {
     "name": "stdout",
     "output_type": "stream",
     "text": [
      "A000020\n"
     ]
    }
   ],
   "source": [
    "import win32com.client\n",
    "instCpStockCode = win32com.client.Dispatch(\"CpUtil.CpStockCode\")\n",
    "print(instCpStockCode.GetData(1, 0))\n"
   ]
  }
 ],
 "metadata": {
  "kernelspec": {
   "display_name": "Python 3",
   "language": "python",
   "name": "python3"
  },
  "language_info": {
   "codemirror_mode": {
    "name": "ipython",
    "version": 3
   },
   "file_extension": ".py",
   "mimetype": "text/x-python",
   "name": "python",
   "nbconvert_exporter": "python",
   "pygments_lexer": "ipython3",
   "version": "3.6.1"
  }
 },
 "nbformat": 4,
 "nbformat_minor": 2
}
